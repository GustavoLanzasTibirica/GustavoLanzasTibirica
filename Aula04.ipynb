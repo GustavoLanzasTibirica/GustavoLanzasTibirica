{
 "cells": [
  {
   "cell_type": "markdown",
   "metadata": {},
   "source": [
    "#### Aula 04\n",
    "\n",
    " > OBS: Este documento é um notebok Python que permite a execução de código e edição de texto juntos num mesmo arquivo. Ele é divido em células de Code (execução de código) ou Markdown (edição de texto utilizando a [linguagem MarkDown para definição de estilos](https://www.markdownguide.org/basic-syntax/) )"
   ]
  },
  {
   "cell_type": "markdown",
   "metadata": {},
   "source": [
    "---\n",
    "### Funções de String\n",
    "O Python tem um conjunto de métodos integrados (built in) que você pode usar em strings. Veja as principais:\n",
    "\n",
    "Função     |  Descrição \n",
    "--------- |  ---------\n",
    "len |  Conta o número de caracteres de um texto\n",
    "upper |  transforma um texto em maiúsculo\n",
    "lower |  transforma um texto em minúsculo\n",
    "capitalize |  somente a primeira letra da sentença em maiúsculo\n",
    "title |  a primeira letra de cada palavra em maiúsculo\n",
    "center |  Centraliza o texto num intervalor de colunas preenchendo as laterais com um caracter\n",
    "ljust |  alinha o texto a esquerda preenchendo a direita com um caracter\n",
    "rjust |  alinha o texto a direita  preenchendo a direita com um caracter\n",
    "replace |  Substitui um caractere por outro\n",
    "strip |  remove os espaços das laterias\n",
    "lstrip |  remove os espaços a esquerda\n",
    "rstrip |  remove os espaços a direita\n",
    "find |  Localizar a posição de um caractere\n",
    "[início: final] |  Contar o texto a partir de uma posição inicial e final\n",
    "split |  Quebra o texto a partir de um caractere"
   ]
  },
  {
   "cell_type": "code",
   "execution_count": 23,
   "metadata": {},
   "outputs": [
    {
     "name": "stdout",
     "output_type": "stream",
     "text": [
      "Paula Pereira da Costa é mulher\n"
     ]
    }
   ],
   "source": [
    "#texto = \"Senac São Miguel Paulista\"\n",
    "\n",
    "# len =  função = len(valor de parametro)\n",
    "\n",
    "# upper, lower, etc = método\n",
    "\n",
    "# print(len(texto)) # tamanho do texto\n",
    "\n",
    "#print(texto.lower())# mainusculo\n",
    "\n",
    "#print(texto.upper()) # maiusculo\n",
    "\n",
    "#print(texto.capitalize()) # primira maiuscula\n",
    "\n",
    "#print(texto.title()) # primeira de cada paçavra\n",
    "\n",
    "#print(texto.center(50, \" \")) #centraliza o testo\n",
    "\n",
    "#print(texto.ljust()) # alinha o texto a esquerda\n",
    "\n",
    "#print(texto.rjust()) # alinha o texto a direita\n",
    "\n",
    "# print(texto.replace(\"e\", \"3\").replace(\"a\", \"4\")) # substitui um caractere por outro\n",
    "# print(texto.replace(\"São\", \"Santo\"))\n",
    "# print(texto.replace(\" \", \"\"))\n",
    "# print(texto.replace(\"ã\", \"~\"))\n",
    "\n",
    "#print(\"palavra normal:\", len(texto))\n",
    "#print(\"strip: \", len(texto.strip())) # remove os espaços das laterais\n",
    "#print(\"lstrip: \", len(texto.lstrip())) # remove os espaços a esqueda\n",
    "#print(\"rstrip: \", len(texto.rstrip())) # remove os espaços a direita\n",
    "\n",
    "# print(texto.find(\"São\"))\n",
    "# print(texto.find(\"Paulista\"))\n",
    "# print(texto.find(\"sai\"))\n",
    "\n",
    "# corta o texto a partir de uma posição inicial e final\n",
    "# print(texto[3:11]) # posição 3 até a 11\n",
    "# print(texto[:5]) #  posição 0 até o 5\n",
    "# print(texto[5:]) # posição 5 até o final do testo\n",
    "# print(texto[:-5]) # posição 0 até o final -5 posições\n",
    "# print(texto[-5:]) #posição final -5 até o final \n",
    "\n",
    "#[inicio:final] = corta o testo a partir de uma posição inicial e final\n",
    "# nome = \"Paulo\"\n",
    "# ultima_letra = nome[-1:]\n",
    "# if (ultima_letra == \"o\"):\n",
    "#     print(nome + \" é homem\")\n",
    "# elif (ultima_letra == \"a\"):\n",
    "#     print(nome + \" é mulher\")\n",
    "# else:\n",
    "#     print(\"não foi possivel definir\")\n",
    "\n",
    "#split = quebra um texto a partir de um caracterer\n",
    "nome = \"Paula Pereira da Costa\"\n",
    "primeiro_nome = nome.split(\" \")[0]\n",
    "ultima_letra = primeiro_nome[-1:]\n",
    "if (ultima_letra == \"o\"):\n",
    "    print(nome + \" é homem\")\n",
    "elif (ultima_letra == \"a\"):\n",
    "    print(nome + \" é mulher\")\n",
    "else:\n",
    "    print(\"não foi possivel definir\")"
   ]
  },
  {
   "cell_type": "markdown",
   "metadata": {},
   "source": [
    "---\n",
    "### Interpolação de String (Formatação)\n",
    "\n",
    "#### Usando .Format\n",
    "O método format() permite formatar partes selecionadas de uma string.\n",
    "\n",
    "Para controlar esses valores, adicione colchetes {} no texto e substitua os valores por meio do método format():\n",
    "nome = \"Fulano\"\n",
    "imc = 25.5154\n",
    "print(\"Olá {}. Seu IMC é {:.2f}\".format(nome, imc))\n",
    "\n",
    "#### Usando F-Strings\n",
    "A partir da versão 3.6 do Python foi implementado uma nova forma de interpolação de string. O f-Strings\n",
    "\n",
    "nome = \"Fulano\"\n",
    "imc = 25.5154\n",
    "print(f\"Olá {nome}. Seu IMC é {imc:.2f}\")"
   ]
  },
  {
   "cell_type": "code",
   "execution_count": 25,
   "metadata": {},
   "outputs": [
    {
     "name": "stdout",
     "output_type": "stream",
     "text": [
      "Olá Gustavo. Você tem 32 aanos\n",
      "Olá Gustavo. \n",
      "Você tem 32 anos e \n",
      "Peso 82.556\n"
     ]
    }
   ],
   "source": [
    "nome = \"Gustavo\"\n",
    "idade = 32\n",
    "peso = 82.555555555\n",
    "\n",
    "#uxemplo usando format\n",
    "print(\"Olá {}. Você tem {} aanos\".format(nome.capitalize(), idade))\n",
    "\n",
    "# exemplo usando f-string\n",
    "print(f\"Olá {nome.capitalize()}. \\nVocê tem {idade} anos e \\nPeso {peso:.3f}\")"
   ]
  }
 ],
 "metadata": {
  "kernelspec": {
   "display_name": "Python 3.11.1 64-bit",
   "language": "python",
   "name": "python3"
  },
  "language_info": {
   "codemirror_mode": {
    "name": "ipython",
    "version": 3
   },
   "file_extension": ".py",
   "mimetype": "text/x-python",
   "name": "python",
   "nbconvert_exporter": "python",
   "pygments_lexer": "ipython3",
   "version": "3.11.4"
  },
  "orig_nbformat": 4,
  "vscode": {
   "interpreter": {
    "hash": "a6575a79d982d4f2822af0dbad6f822667d9cc27f6e7657f853dc9f72ce1dde4"
   }
  }
 },
 "nbformat": 4,
 "nbformat_minor": 2
}
