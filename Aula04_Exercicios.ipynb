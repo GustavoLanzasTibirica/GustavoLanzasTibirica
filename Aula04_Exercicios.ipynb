{
 "cells": [
  {
   "attachments": {},
   "cell_type": "markdown",
   "metadata": {},
   "source": [
    "## Exercício 1: Soma 2 maiores\n",
    "Elabore um algoritmo para ler 3 valores\n",
    "e apresente a soma dos 2 números maiores."
   ]
  },
  {
   "cell_type": "code",
   "execution_count": 4,
   "metadata": {},
   "outputs": [
    {
     "name": "stdout",
     "output_type": "stream",
     "text": [
      "Resultado:  40\n"
     ]
    }
   ],
   "source": [
    "number1 = int(input(\"Digite o numero 1: \"))\n",
    "number2 = int(input(\"Digite o numero 2: \"))\n",
    "number3 = int(input(\"Digite o numero 3: \"))\n",
    "\n",
    "if (number3 < number2 and number3 < number1):\n",
    "    resultado = number1 + number2\n",
    "elif (number2 < number1 and number2 < number3):\n",
    "    resultado = number1 + number3\n",
    "elif (number1 < number2 and number1 < number3):\n",
    "    resultado = number3 + number2\n",
    "else:\n",
    "    resultado = \"numeros iguais\"\n",
    "\n",
    "print(\"Resultado: \", resultado)"
   ]
  },
  {
   "attachments": {},
   "cell_type": "markdown",
   "metadata": {},
   "source": [
    "## Exercício 2: Triângulos\n",
    "Elabore um algoritmo que dados três valores X, Y e Z, referente os comprimentos dos lados de um triângulo. \n",
    "Com base nos 3 lados, escrever uma mensagem informando se é um triângulo equilátero, isósceles ou escaleno:\n",
    "Lembrando que:\n",
    "- Equilátero - todos os lados são iguais\n",
    "- Isósceles - Dois lados iguais\n",
    "- Escaleno - Todos os lados diferentes"
   ]
  },
  {
   "cell_type": "code",
   "execution_count": 34,
   "metadata": {},
   "outputs": [
    {
     "name": "stdout",
     "output_type": "stream",
     "text": [
      "Ele é um Escaleno\n"
     ]
    }
   ],
   "source": [
    "X = float(input(\"Digite o valor X: \"))\n",
    "Y = float(input(\"Digite o valor Y: \"))\n",
    "Z = float(input(\"Digite o valor Z: \"))\n",
    "\n",
    "if (X == Y == Z):\n",
    "    print(\"Ele é um Equilátero\")\n",
    "elif (X == Y != Z):\n",
    "    print(\"Ele é um Isósceles\")\n",
    "elif (X != Y != Z):\n",
    "    print(\"Ele é um Escaleno\")\n",
    "else:\n",
    "    print(\"Refaça\")"
   ]
  },
  {
   "attachments": {},
   "cell_type": "markdown",
   "metadata": {},
   "source": [
    "## Exercício 3: Calculadora de IMC\n",
    "Elaborar um código para calcular o IMC de uma pessoa. \n",
    "A pessoa deve informar o nome, peso e a altura.\n",
    "O IMC é obtido através da fórmula: IMC = peso / altura².\n",
    "Após o cálculo deverá ser exibido\n",
    "na tela: Nome, Peso, Altura, IMC e Resultado.\n",
    "O Resultado deve ser mostrado de acordo com a tabela a seguir:\n",
    "\n",
    "\n",
    "|IMC                    | Classificação   |\n",
    "|---------------------- | --------------- |\n",
    "|Menor do que 18,5\t    | Abaixo do peso  |\n",
    "|Entre 18,5 e 24,9\t    | Peso normal     |\n",
    "|Entre 25 e 29,9 \t    | Sobrepeso       |\n",
    "|Entre 30 e 34,9 \t    | Obesidade grau 1|\n",
    "|Entre 35 e 39,9 \t    | Obesidade grau 2|\n",
    "|Mais do que 40 \t    | Obesidade grau 3|"
   ]
  },
  {
   "cell_type": "code",
   "execution_count": 9,
   "metadata": {},
   "outputs": [
    {
     "name": "stdout",
     "output_type": "stream",
     "text": [
      "Peso Normal\n",
      "Gustavo \n",
      "Você tem 82.0 Kilos \n",
      "1.88cm \n",
      "ICM: 23.20\n"
     ]
    }
   ],
   "source": [
    "nome = input(\"Digite seu nome:\")\n",
    "peso = float(input(\"Digite seu peso:\"))\n",
    "altura = float(input(\"Digite sua altura:\"))\n",
    "\n",
    "calc1 = altura * altura\n",
    "calc2 = peso / calc1\n",
    "\n",
    "if (calc2 < 18.5):\n",
    "    print(\"Abaixo do Peso\")\n",
    "elif (calc2 >= 18.5 and calc2<=24.9):\n",
    "    print(\"Peso Normal\")\n",
    "elif (calc2 >= 25 and calc2<=29.9):\n",
    "    print(\"Sobrepeso\")\n",
    "elif (calc2 >= 30 and calc2<=34.9):\n",
    "    print(\"Obesidade Grau 1\")\n",
    "elif (calc2 >= 35 and calc2<=39.9):\n",
    "    print(\"Obesidade Grau 2\")\n",
    "elif (calc2 >=40):\n",
    "    print(\"Obesidade Grau 3\")\n",
    "\n",
    "print(f\"{nome} \\nVocê tem {peso} Kilos \\n{altura}cm \\nICM: {calc2:.2f}\")\n",
    "# print(peso)\n",
    "# print(altura)\n",
    "# print(calc2)\n",
    "\n",
    "\n",
    "\n",
    "\n",
    "\n"
   ]
  },
  {
   "cell_type": "markdown",
   "metadata": {},
   "source": [
    "## Exercício 4: Aposentadoria\n",
    "Uma empresa quer verificar se um empregado está qualificado para a aposentadoria ou não. Para\n",
    "estar em condições de se aposentar, um dos seguintes requisitos deve ser satisfeito:\n",
    "- Ter no mínimo 65 anos de idade.\n",
    "- Ter trabalhado no mínimo 30 anos.\n",
    "- Ter no mínimo 60 anos e ter trabalhado no mínimo 25 anos.\n",
    "\n",
    "Com base nas informações acima, faça um algoritmo que leia: o nome do empregado, o ano\n",
    "de seu nascimento e o ano de admissão na empresa.\n",
    "O algoritmo deverá escrever a idade e o tempo\n",
    "de trabalho do empregado e a mensagem 'Requerer aposentadoria' ou 'Não requerer'."
   ]
  },
  {
   "cell_type": "code",
   "execution_count": 10,
   "metadata": {},
   "outputs": [
    {
     "name": "stdout",
     "output_type": "stream",
     "text": [
      "funcionário: Gustavo \n",
      "Idade: 33 \n",
      " Tempo de trabalho: 33\n",
      "Pode Requerer Aposentadoria\n"
     ]
    }
   ],
   "source": [
    "nome = input(\"Digite o nome do empregado: \")\n",
    "ano_nasc = int(input(\"Digite o ano de nascimento: \"))\n",
    "ano_admissao = int(input(\"Digite o ano de admissão:\"))\n",
    "\n",
    "ano_atual = 2023\n",
    "idade = ano_atual - ano_nasc\n",
    "tempo_trabalho = ano_atual - ano_nasc\n",
    "\n",
    "if idade >= 65:\n",
    "    pode_aposentar = True\n",
    "elif tempo_trabalho >= 30:\n",
    "    pode_aposentar = True\n",
    "elif idade >= 60 and tempo_trabalho >= 25:\n",
    "    pode_aposentar = False\n",
    "\n",
    "print (f\"funcionário: {nome} \\nIdade: {idade} \\nTempo de trabalho: {tempo_trabalho}\")\n",
    "\n",
    "if pode_aposentar == True:\n",
    "    print(\"Pode Requerer Aposentadoria\")\n",
    "else:\n",
    "    print(\"Não requerer\")\n",
    "\n"
   ]
  }
 ],
 "metadata": {
  "kernelspec": {
   "display_name": "Python 3.11.1 64-bit",
   "language": "python",
   "name": "python3"
  },
  "language_info": {
   "codemirror_mode": {
    "name": "ipython",
    "version": 3
   },
   "file_extension": ".py",
   "mimetype": "text/x-python",
   "name": "python",
   "nbconvert_exporter": "python",
   "pygments_lexer": "ipython3",
   "version": "3.11.4"
  },
  "orig_nbformat": 4,
  "vscode": {
   "interpreter": {
    "hash": "6daf58e1c4ea4afa21620bdaaf8e5cf667f85c91827fa8c7fe157fb5fc14b4fc"
   }
  }
 },
 "nbformat": 4,
 "nbformat_minor": 2
}
