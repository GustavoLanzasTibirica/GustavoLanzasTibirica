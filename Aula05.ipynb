{
 "cells": [
  {
   "cell_type": "markdown",
   "metadata": {},
   "source": [
    "#### Aula 05\n",
    "\n",
    " > OBS: Este documento é um notebok Python que permite a execução de código e edição de texto juntos num mesmo arquivo. Ele é divido em células de Code (execução de código) ou Markdown (edição de texto utilizando a [linguagem MarkDown para definição de estilos](https://www.markdownguide.org/basic-syntax/) )"
   ]
  },
  {
   "cell_type": "markdown",
   "metadata": {},
   "source": [
    "## Estruturas de Repetição\n",
    "Uma estrutura de repetição permite executar um bloco de instruções tantas vezes quantas forem necessárias (loops) de acordo com uma condição pré-definida."
   ]
  },
  {
   "cell_type": "markdown",
   "metadata": {},
   "source": [
    "---\n",
    "### for/range (Repetição com variável de controle)\n",
    "Esta estrutura permite repetir um bloco de instruções uma determinada quantidade de vezes. Ao final das repetições, opcionalmente pode ser exeuctado as instruções contidas no else..\n",
    "\n",
    "A quantidade de repetições é definida dentro da função range(), que pode conter até 3 parâmetros\\: valor inicial, valor final e por último o incremento.\n",
    "\n",
    "Duas instruções que podem também ser usadas em estruturas de repetição são:\n",
    "- break - força a finalização e saída da repetição\n",
    "- continue - força a interrupção do loop atual sem executar as demais instruções e passa para próxima repetição.\n"
   ]
  },
  {
   "cell_type": "code",
   "execution_count": 4,
   "metadata": {},
   "outputs": [
    {
     "name": "stdout",
     "output_type": "stream",
     "text": [
      "Hello Word!\n",
      "Loop nº  1\n",
      "Hello Word!\n",
      "Loop nº  2\n",
      "Hello Word!\n",
      "Loop nº  3\n",
      "Hello Word!\n",
      "Loop nº  4\n",
      "Hello Word!\n",
      "Loop nº  5\n"
     ]
    }
   ],
   "source": [
    "for i in range(1, 6):\n",
    "    print(\"Hello Word!\")\n",
    "    print(\"Loop nº \", i)"
   ]
  },
  {
   "cell_type": "code",
   "execution_count": 8,
   "metadata": {},
   "outputs": [
    {
     "name": "stdout",
     "output_type": "stream",
     "text": [
      "9 x 0 = 0\n",
      "9 x 1 = 9\n",
      "9 x 2 = 18\n",
      "9 x 3 = 27\n",
      "9 x 4 = 36\n",
      "9 x 5 = 45\n",
      "9 x 6 = 54\n",
      "9 x 7 = 63\n",
      "9 x 8 = 72\n",
      "9 x 9 = 81\n",
      "9 x 10 = 90\n"
     ]
    }
   ],
   "source": [
    "tabuada = int(input(\"Digite um numero da Tabuada: \"))\n",
    "\n",
    "for i in range(11):\n",
    "    print(f\"{tabuada} x {i} = {tabuada * i}\")"
   ]
  },
  {
   "cell_type": "code",
   "execution_count": 11,
   "metadata": {},
   "outputs": [
    {
     "name": "stdout",
     "output_type": "stream",
     "text": [
      "2\n",
      "A\n",
      "B\n",
      "C\n",
      "4\n",
      "A\n",
      "B\n",
      "C\n",
      "6\n",
      "A\n",
      "B\n",
      "C\n",
      "8\n",
      "A\n",
      "B\n",
      "C\n",
      "10\n",
      "A\n",
      "12\n",
      "A\n",
      "B\n",
      "C\n",
      "14\n",
      "A\n",
      "B\n",
      "C\n",
      "16\n",
      "A\n",
      "B\n",
      "C\n",
      "18\n",
      "A\n",
      "B\n",
      "C\n",
      "20\n",
      "A\n",
      "B\n",
      "C\n"
     ]
    }
   ],
   "source": [
    "# escreva os números pares de 0 a 100\n",
    "\n",
    "for i in range(2, 100, 2):\n",
    "    print(i)\n",
    "    print(\"A\")\n",
    "    if i == 10:\n",
    "        continue\n",
    "    # avança para o próximo loop ignorando as próximas linhas do bloco.\n",
    "    print(\"B\")\n",
    "    print(\"C\")\n",
    "    if i == 20:\n",
    "        break\n",
    "    # interrompe a execução do for."
   ]
  },
  {
   "cell_type": "markdown",
   "metadata": {},
   "source": [
    "---\n",
    "### while (repetição com teste no início)\n",
    "Esta estrutura permite repetir várias vezes um mesmo bloco de instruções enquanto uma condição (expressão lógica) seja verdadeira (True). Quando o resultado da expressão for Falso, opcionalmente pode ser exeuctado as instruções contidas no else.\n",
    "\n",
    "\n",
    "As instruções **break** e **continue** visto no for, se aplicar da mesma forma ao while.\n",
    "\n",
    "OBS: Sempre certifique-se que sua condição é atingível, caso contrário irá cair num **loop infinito**."
   ]
  },
  {
   "cell_type": "code",
   "execution_count": 1,
   "metadata": {},
   "outputs": [
    {
     "name": "stdout",
     "output_type": "stream",
     "text": [
      "Digitou:  10\n",
      "Digitou:  2\n",
      "Digitou:  3\n",
      "Digitou:  5\n",
      "Digitou:  5\n",
      "Digitou:  0\n",
      "Fim\n"
     ]
    }
   ],
   "source": [
    "numero =  10\n",
    "\n",
    "while (numero != 0):\n",
    "    numero = int(input(\"Digite um numero\"))\n",
    "    print(\"Digitou: \", numero)\n",
    "\n",
    "print(\"Fim\")"
   ]
  },
  {
   "cell_type": "code",
   "execution_count": null,
   "metadata": {},
   "outputs": [],
   "source": [
    "# Elabore um programa que a partir da entrada de um número \n",
    "# escreva na tela a tabuada do respectivo número. \n",
    "# Devem ser aceitos apenas números entre 1 e 9.\n",
    "# Caso seja informado um número diferente \n",
    "# mostrar “Número inválido”:\n",
    "# EX:\n",
    "# Tabuada do 5\n",
    "# 5 × 0 = 0\n",
    "# 5 × 1 = 5\n",
    "# 5 × 2 = 10\n",
    "# 5 × 3 = 15\n",
    "# 5 × 4 = 20\n",
    "# 5 × 5 = 25\n",
    "# 5 × 6 = 30\n",
    "# 5 × 7 = 35\n",
    "# 5 × 8 = 40\n",
    "# 5 × 9 = 45\n",
    "# 5 × 10 = 50\n",
    "\n",
    "\n"
   ]
  },
  {
   "cell_type": "code",
   "execution_count": 19,
   "metadata": {},
   "outputs": [
    {
     "name": "stdout",
     "output_type": "stream",
     "text": [
      "Entraram 4 pessoas com o peso total de 1372.0 kg\n"
     ]
    }
   ],
   "source": [
    "#Um elevador tem capacidade máxima de peso 800 kg\n",
    "#faça um algoritmo que controle esse peso e ao final \n",
    "#mostre quanto pessoas entraram no elevador\n",
    "\n",
    "\n",
    "capacidade_maxima = 800\n",
    "peso_total = 0 #variavel acumuladora\n",
    "qtde_pessoas = 0 # variavel contadora\n",
    "\n",
    "while (peso_total < capacidade_maxima):\n",
    "    peso = float(input(\"Informe seu peso: \"))\n",
    "    peso_total += peso\n",
    "    qtde_pessoas += 1\n",
    "\n",
    "print(f\"Entraram {qtde_pessoas} pessoas com o peso total de {peso_total} kg\")"
   ]
  },
  {
   "cell_type": "markdown",
   "metadata": {},
   "source": [
    "---\n",
    "### Listas e Tuplas\n",
    "As **listas** são usadas para armazenar vários itens em uma única variável (semelhante ao vetor (array)).\n",
    "Esta estrutura sempre será representada por colchetes []\n",
    "\n",
    "Exemplo de Lista:\n",
    "minha_lista = [\"maçã\", \"banana\", \"laranja\"]\n",
    "\n",
    "\n",
    "**Tuplas** também são usada para armazenas vários itens em uma única variável, assim como as listas.\n",
    "A grande diferença é que a tupla é **imutável**, ou seja, os itens da tupla não podem ser alterados.\n",
    "\n",
    "Exemplo de Tupla:\n",
    "minha_tupla = (\"maçã\", \"banana\", \"laranja\")\n",
    "\n",
    "\n",
    "Lists Methods\n",
    "Principais métodos integrados do python para uso de listas.\n",
    "\n",
    "Method   |   Description\n",
    "-------   |   -------\n",
    "append()   |   Adiciona um elemento item no fim da lista\n",
    "clear()   |   Remove todos os itens de uma lista\n",
    "count()   |   Retorna o número de itens com um valor específico\n",
    "index()   |   Retorna a posição do primeiro item com um valor específico\n",
    "insert()   |   Adiciona um item numa posição específica\n",
    "pop()   |   Remove um item de uma posição específica\n",
    "remove()   |   Remove itens com um valor específico\n",
    "reverse()\t   |    a ordem dos itens da lista\n",
    "sort()   |   Ordena os itens da lista\n",
    "\n"
   ]
  },
  {
   "cell_type": "code",
   "execution_count": null,
   "metadata": {},
   "outputs": [],
   "source": [
    "# lista vazia\n",
    "numeros = []\n",
    "# criando uma lista com valores   \n",
    "numeros2 = [5, 10, 2, 0, 3]\n",
    "cores = [\"azul\", \"verde\", \"vermelho\", \"preto\"]\n",
    "# append = add no final da lista\n",
    "numeros.append(50)\n",
    "numeros2.append(50)\n",
    "cores.append(roxo)\n",
    "print(numeros)\n",
    "print(numeros2)\n",
    "print(cores)\n",
    "\n",
    "# insert = add em uma posição especifica\n",
    "# cores.insert(0, \"Branco\")\n",
    "# print(cores)\n",
    "\n",
    "# # # len = tamanho da lista\n",
    "# print(len(cores))\n",
    "# # #  acessando o valor de um posição da lista\n",
    "# print(cores[2])\n",
    "# print(cores[0])\n",
    "# cores[1] = \"Verde Limão\"\n",
    "# print(cores[1])\n",
    "# print(cores[3])\n",
    "# cores[3] = \"Preto Perola\"\n",
    "# print(cores[3])\n",
    "\n",
    "\n"
   ]
  },
  {
   "cell_type": "code",
   "execution_count": 8,
   "metadata": {},
   "outputs": [
    {
     "name": "stdout",
     "output_type": "stream",
     "text": [
      "[5, 10, 2, 3, 2]\n",
      "['Azul', 'Vermelho', 'Preto']\n",
      "[5, 10, 3, 2]\n",
      "[]\n"
     ]
    }
   ],
   "source": [
    "numeros2 = [5, 10, 2, 0, 3, 2]\n",
    "cores =[\"Azul\", \"Verde\", \"Vermelho\", \"Preto\"]\n",
    "\n",
    "# pop = remove de uma posição especifica\n",
    "numeros2.pop(3)\n",
    "cores.pop(1)\n",
    "print(numeros2)\n",
    "print(cores)\n",
    "\n",
    "#  remove = remove onde tem um valor especifico\n",
    "numeros2.remove(2)\n",
    "print(numeros2)\n",
    "\n",
    "# clear = linpa toda lista\n",
    "cores.clear()\n",
    "print(cores)"
   ]
  },
  {
   "cell_type": "code",
   "execution_count": 12,
   "metadata": {},
   "outputs": [
    {
     "name": "stdout",
     "output_type": "stream",
     "text": [
      "2\n",
      "1\n",
      "0\n",
      "2\n",
      "3\n"
     ]
    }
   ],
   "source": [
    "numeros2 = [5, 10, 2, 0, 3, 2]\n",
    "cores =[\"Azul\", \"Verde\", \"Vermelho\", \"Preto\"]\n",
    "\n",
    "#  count = quantas ocorrencias de um valor\n",
    "print(numeros2.count(2))\n",
    "print(cores.count(\"Preto\"))\n",
    "print(cores. count(\"lanranja\"))\n",
    "\n",
    "# index = retorna a primeira posição\n",
    "print(numeros2.index(2))\n",
    "print(cores.index(\"Preto\"))\n",
    "#print(cores.index(\"Lanranja\"))\n"
   ]
  },
  {
   "cell_type": "code",
   "execution_count": 14,
   "metadata": {},
   "outputs": [
    {
     "name": "stdout",
     "output_type": "stream",
     "text": [
      "[0, 2, 2, 3, 5, 10]\n",
      "['Azul', 'Preto', 'Verde', 'Vermelho']\n"
     ]
    }
   ],
   "source": [
    "numeros2 = [5, 10, 2, 0, 3, 2]\n",
    "cores =[\"Azul\", \"Verde\", \"Vermelho\", \"Preto\"]\n",
    "\n",
    "# sort = ordenar os valores\n",
    "#  inverse = inverte a ordem dos valores\n",
    "numeros2.sort()\n",
    "# numeros2.reverse()\n",
    "cores.sort()\n",
    "# cores.reverse()\n",
    "\n",
    "print(numeros2)\n",
    "print(cores)\n",
    "\n"
   ]
  },
  {
   "cell_type": "code",
   "execution_count": 15,
   "metadata": {},
   "outputs": [
    {
     "name": "stdout",
     "output_type": "stream",
     "text": [
      "Azul\n",
      "Verde\n",
      "Vermelho\n",
      "Preto\n",
      "5\n",
      "10\n",
      "2\n",
      "0\n",
      "3\n",
      "2\n"
     ]
    }
   ],
   "source": [
    "# usando for para percorrer uma lista\n",
    "cores = [\"Azul\", \"Verde\", \"Vermelho\", \"Preto\"]\n",
    "for cor in cores:\n",
    "    print(cor)\n",
    "\n",
    "numeros2 = [5, 10, 2, 0, 3, 2]\n",
    "for num in numeros2:\n",
    "    print(num)"
   ]
  },
  {
   "cell_type": "code",
   "execution_count": 17,
   "metadata": {},
   "outputs": [
    {
     "name": "stdout",
     "output_type": "stream",
     "text": [
      "Azul A\n",
      "Verde B\n",
      "Vermelho c\n",
      "Preto D\n",
      "Azul 1\n",
      "Verde 2\n",
      "Vermelho 3\n",
      "Preto 4\n"
     ]
    }
   ],
   "source": [
    "cores = [\"Azul\", \"Verde\", \"Vermelho\", \"Preto\"]\n",
    "letras = [\"A\", \"B\", \"c\", \"D\"]\n",
    "\n",
    "# zip = percorrendo 2 listas simultaneamente\n",
    "for cor, letra in zip(cores, letras):\n",
    "    print(cor, letra)\n",
    "\n",
    "# enumerate = percorrendo a lista numerada\n",
    "for i, cor in enumerate(cores):\n",
    "    # print(cor, i)\n",
    "    print(cor, i+1)"
   ]
  },
  {
   "cell_type": "code",
   "execution_count": 26,
   "metadata": {},
   "outputs": [
    {
     "name": "stdout",
     "output_type": "stream",
     "text": [
      "['Paulo', 'Pedro', 'Paula']\n",
      "[5, 2, 5]\n",
      "[6, 3, 9]\n",
      "[9, 5, 10]\n",
      "Paulo - Média: 6.67\n",
      "Pedro - Média: 3.33\n",
      "Paula - Média: 8.00\n"
     ]
    }
   ],
   "source": [
    "# ler e calcular a media de 5 alunos\n",
    "alunos = []\n",
    "notas1 = []\n",
    "notas2 = []\n",
    "notas3 = []\n",
    "medias = []\n",
    "\n",
    "for i in range(3):\n",
    "    alunos.append(input(\"Digite o Nome: \"))\n",
    "    notas1.append(int(input(\"Digite a Nota 1: \")))\n",
    "    notas2.append(int(input(\"Digite a Nota 2: \")))\n",
    "    notas3.append(int(input(\"Digite a Nota 3: \")))\n",
    "\n",
    "print(alunos)\n",
    "print(notas1)\n",
    "print(notas2)\n",
    "print(notas3)\n",
    "\n",
    "for n1, n2, n3 in zip(notas1, notas2, notas3):\n",
    "    media = (n1 + n2 + n3)/3\n",
    "    medias.append(media)\n",
    "\n",
    "for aluno, media in zip(alunos, medias):\n",
    "    print(f\"{aluno} - Média: {media:.2f}\")\n",
    "\n",
    "\n",
    "\n",
    "\n"
   ]
  },
  {
   "cell_type": "code",
   "execution_count": 36,
   "metadata": {},
   "outputs": [],
   "source": [
    "#elabore um programa que leia 10 nomes e ano de nascimento.\n",
    "#monte uma lista de pessoas maiores de idade \n",
    "# e outra de pessoas menores de idade.\n",
    "# ao final escreva essas listas\n",
    "\n",
    "\n"
   ]
  }
 ],
 "metadata": {
  "kernelspec": {
   "display_name": "Python 3.11.1 64-bit",
   "language": "python",
   "name": "python3"
  },
  "language_info": {
   "codemirror_mode": {
    "name": "ipython",
    "version": 3
   },
   "file_extension": ".py",
   "mimetype": "text/x-python",
   "name": "python",
   "nbconvert_exporter": "python",
   "pygments_lexer": "ipython3",
   "version": "3.11.4"
  },
  "orig_nbformat": 4,
  "vscode": {
   "interpreter": {
    "hash": "6daf58e1c4ea4afa21620bdaaf8e5cf667f85c91827fa8c7fe157fb5fc14b4fc"
   }
  }
 },
 "nbformat": 4,
 "nbformat_minor": 2
}
