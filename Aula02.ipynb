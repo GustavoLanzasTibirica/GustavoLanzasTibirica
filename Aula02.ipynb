{
 "cells": [
  {
   "cell_type": "markdown",
   "metadata": {},
   "source": [
    "## Aula 02\n",
    "\n",
    " > OBS: Este documento é um notebok Python que permite a execução de código e edição de texto juntos num mesmo arquivo. Ele é divido em células de Code (execução de código) ou Markdown (edição de texto utilizando a [linguagem MarkDown para definição de estilos](https://www.markdownguide.org/basic-syntax/) )"
   ]
  },
  {
   "cell_type": "markdown",
   "metadata": {},
   "source": [
    "---\n",
    "### PEP = Python Enhancement Proposals (Propostas de Aprimoramento do Python)\n",
    "[URL: https://peps.python.org/](https://peps.python.org/)\n",
    "\n",
    "#### PEP 8 - Style Guide for Pthon Code\n",
    "[URL: https://peps.python.org/pep-0008/](https://peps.python.org/pep-0008/)\n",
    "\n",
    "[URL Versão Traduzida: https://wiki.python.org.br/GuiaDeEstilo](https://wiki.python.org.br/GuiaDeEstilo)"
   ]
  },
  {
   "cell_type": "markdown",
   "metadata": {},
   "source": [
    "---\n",
    "### Função print()\n",
    "Comando de saída do Python para escrever na tela"
   ]
  },
  {
   "cell_type": "code",
   "execution_count": null,
   "metadata": {},
   "outputs": [],
   "source": [
    "# Isto é um comentario e será ignorado pelo interpretador\n",
    "# No Visual Studio Code o  atalho é CTRL + ;"
   ]
  },
  {
   "cell_type": "code",
   "execution_count": 1,
   "metadata": {},
   "outputs": [
    {
     "name": "stdout",
     "output_type": "stream",
     "text": [
      "Texto a ser exibido\n"
     ]
    }
   ],
   "source": [
    "print(\"Texto a ser exibido\")\n"
   ]
  },
  {
   "cell_type": "markdown",
   "metadata": {},
   "source": [
    "---\n",
    "### Função input()\n",
    "Comando de entrada de dados do Python\n",
    "\n",
    "> OBS: A informação recebida no input() sempre será do tipo str (string/texto). Se necessário fazer a conversão para o formato desejado"
   ]
  },
  {
   "cell_type": "code",
   "execution_count": 2,
   "metadata": {},
   "outputs": [
    {
     "data": {
      "text/plain": [
       "'32'"
      ]
     },
     "execution_count": 2,
     "metadata": {},
     "output_type": "execute_result"
    }
   ],
   "source": [
    "input(\"Digite o que vc quiser\")\n",
    "input(\"Digite seu nome\")\n",
    "input(\"Digite a sua idade\")"
   ]
  },
  {
   "cell_type": "markdown",
   "metadata": {},
   "source": [
    "---\n",
    "### Função type()\n",
    "Retorna o tipo de dados do parâmetro informado\n",
    "\n",
    "##### Principais tipos de Dados no Python\n",
    "valor     |  type    |  exemplo \n",
    "--------- |--------- | ------\n",
    "Texto | str | Roni, Senac (sempre entre aspas)\n",
    "Número inteiro  | int  | 10,   1,  -5 \n",
    "Número decimal  | float  | 10.50,   1.99,  -5.05 \n",
    "Lógico |  bool | True ou False\n",
    "\n",
    "\n",
    "#### Conversão de Tipo (Casting)\n",
    "para converter um tipo de dados em outro, basta usa-lo como uma função.\n",
    "Ex: str(\"50\")"
   ]
  },
  {
   "cell_type": "code",
   "execution_count": 7,
   "metadata": {},
   "outputs": [
    {
     "name": "stdout",
     "output_type": "stream",
     "text": [
      "<class 'bool'>\n"
     ]
    }
   ],
   "source": [
    "nome = \"Gustavo\" # string (str)\n",
    "idade = 38 #int\n",
    "peso = 65.500 #float\n",
    "logado = False #booleano (bool)\n",
    "print(type(logado))"
   ]
  },
  {
   "cell_type": "code",
   "execution_count": 20,
   "metadata": {},
   "outputs": [
    {
     "name": "stdout",
     "output_type": "stream",
     "text": [
      "<class 'bool'>\n"
     ]
    }
   ],
   "source": [
    "# fazendo a conversao (cast)\n",
    "#idade = int(input(\"Digite a idade\"))\n",
    "#nome = str(input(\"Digite seu nome\"))\n",
    "#peso = float(input(\"Digite um Peso\"))\n",
    "logado = bool(input(\"Digite True or False\"))\n",
    "\n",
    "print(type(logado))\n"
   ]
  },
  {
   "cell_type": "markdown",
   "metadata": {},
   "source": [
    "### Variavéis\n",
    "Armazena uma informação na memória do computador. \n",
    "O Python utiliza tipagem dinâmica, ou seja, não precisa declarar o tipo."
   ]
  },
  {
   "cell_type": "code",
   "execution_count": null,
   "metadata": {},
   "outputs": [],
   "source": [
    "# criando variaveis\n",
    "nome = \"Fulano\n",
    "nome_da_mae = \"Ciclana\"\n",
    "endereco = \"rua azy\"\n",
    "cidade = \"São Paulo\"\n",
    "uf = \"SP\"\n",
    "cep = \"08651-100\"\n",
    "cpf = \"321.369.852-52\"\n"
   ]
  },
  {
   "cell_type": "code",
   "execution_count": 42,
   "metadata": {},
   "outputs": [
    {
     "name": "stdout",
     "output_type": "stream",
     "text": [
      "300\n",
      "<class 'int'>\n",
      "<class 'int'>\n"
     ]
    }
   ],
   "source": [
    "# Operações matemáticas\n",
    "# + soma \n",
    "# - subtração\n",
    "# / divisão\n",
    "# * multiplicação\n",
    "\n",
    "num1 = int(input(\"Digite o numero 1\"))\n",
    "num2 = int(input(\"Digite outro Numero\"))\n",
    "resultado = num1 + num2\n",
    "print(resultado)\n",
    "print(type(num1))\n",
    "print(type(num2))\n",
    "\n",
    "# concatenção de string\n"
   ]
  },
  {
   "cell_type": "code",
   "execution_count": 43,
   "metadata": {},
   "outputs": [
    {
     "name": "stdout",
     "output_type": "stream",
     "text": [
      "O Resultado do 200 e 100 é igual a 300\n"
     ]
    }
   ],
   "source": [
    "print(f\"O Resultado do {num1} e {num2} é igual a {resultado}\")"
   ]
  },
  {
   "cell_type": "code",
   "execution_count": 72,
   "metadata": {},
   "outputs": [
    {
     "name": "stdout",
     "output_type": "stream",
     "text": [
      "50\n"
     ]
    }
   ],
   "source": [
    "# Exercício 1\n",
    "# Construa um código que receba 3 valores inteiros\n",
    "# Some o primeiro e o segundo valor.\n",
    "# E o resultado multiplique pelo terceiro valor.\n",
    "# mostre o resultado na tela\n",
    "\n",
    "num1 = int(input(\"Digite um Valor\"))\n",
    "num2 = int(input(\"Digite outro valor\"))\n",
    "num3 = int(input(\"digite masi um valor\"))\n",
    "soma = num1 + num2\n",
    "resultado = soma * num3\n",
    "print(resultado)\n"
   ]
  },
  {
   "cell_type": "code",
   "execution_count": 73,
   "metadata": {},
   "outputs": [
    {
     "name": "stdout",
     "output_type": "stream",
     "text": [
      "O resultado  do 20 mais 30 vezes 1 é igual a 50\n"
     ]
    }
   ],
   "source": [
    "print(f\"O resultado  do {num1} mais {num2} vezes {num3} é igual a {resultado}\")"
   ]
  },
  {
   "cell_type": "code",
   "execution_count": 71,
   "metadata": {},
   "outputs": [
    {
     "name": "stdout",
     "output_type": "stream",
     "text": [
      "Gustavo Lanzas\n",
      "33\n"
     ]
    }
   ],
   "source": [
    "# Exercício 2\n",
    "# construa um código que preencha 4 variáveis:\n",
    "# nome, sobrenome, ano de nascimento e ano atual.\n",
    "# a partir dos dados digitados, escreva na tela \n",
    "# o nome completo e idade da pessoa.\n",
    "\n",
    "nome = str(input(\"Digite um Nome\"))\n",
    "sobrenome = str(input(\"Digite um sobrenome\"))\n",
    "ano_nasc = int(input(\"Digite o ano de nascimento\"))\n",
    "ano_atual = int(input(\"Digite o ano atual\"))\n",
    "nome_completo = nome + sobrenome\n",
    "idade = ano_nasc - ano_atual\n",
    "print(nome +\" \"+ sobrenome)\n",
    "print(ano_atual - ano_nasc)\n",
    "#print(f\"Nome Completo: {nome_completo} idade: {idade}\")\n",
    "#print(f\"Seu nome é: {nome} e seu sobrenome é {sobrenome}, sua idade é {idade}\")"
   ]
  },
  {
   "cell_type": "code",
   "execution_count": 74,
   "metadata": {},
   "outputs": [
    {
     "name": "stdout",
     "output_type": "stream",
     "text": [
      "Seu nome é: Gustavo e seu sobrenome é Lanzas, sua idade é -33\n"
     ]
    }
   ],
   "source": [
    "print(f\"Seu nome é: {nome} e seu sobrenome é {sobrenome}, sua idade é {idade}\")"
   ]
  }
 ],
 "metadata": {
  "kernelspec": {
   "display_name": "Python 3.11.2 64-bit",
   "language": "python",
   "name": "python3"
  },
  "language_info": {
   "codemirror_mode": {
    "name": "ipython",
    "version": 3
   },
   "file_extension": ".py",
   "mimetype": "text/x-python",
   "name": "python",
   "nbconvert_exporter": "python",
   "pygments_lexer": "ipython3",
   "version": "3.11.4"
  },
  "orig_nbformat": 4,
  "vscode": {
   "interpreter": {
    "hash": "aeac8e6473e8d8879b214d64c3e2fa4ba8f509dbfcf4254e72e8ec8daa339a82"
   }
  }
 },
 "nbformat": 4,
 "nbformat_minor": 2
}
