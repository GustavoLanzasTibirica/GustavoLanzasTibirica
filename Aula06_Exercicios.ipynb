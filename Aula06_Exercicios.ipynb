{
 "cells": [
  {
   "cell_type": "code",
   "execution_count": 6,
   "metadata": {},
   "outputs": [
    {
     "name": "stdout",
     "output_type": "stream",
     "text": [
      "Maiores:  ['paulo']\n",
      "Menores:  ['ricardo']\n"
     ]
    }
   ],
   "source": [
    "#EXERCÍCIO 1: \n",
    "#elabore um programa que leia 10 nomes e ano de nascimento.\n",
    "#monte uma lista de pessoas maiores de idade \n",
    "# e outra de pessoas menores de idade.\n",
    "# ao final escreva essas listas\n",
    "\n",
    "nomes = []\n",
    "ano_nasc = []\n",
    "ano_atual = 2023\n",
    "maior_idade = []\n",
    "menor_idade = []\n",
    "\n",
    "\n",
    "for i in range(10):\n",
    "    nomes.append(input(\"Digite o nome\"))\n",
    "    ano_nasc.append(int(input(\"Digite o ano de Nascimento\")))\n",
    "\n",
    "for nome, nascimento in zip(nomes, ano_nasc):\n",
    "    idade = ano_atual - nascimento\n",
    "    if (idade >= 18):\n",
    "        maior_idade.append(nome)\n",
    "    else:\n",
    "        (idade <= 18)\n",
    "        menor_idade.append(nome)\n",
    "\n",
    "print(\"Maiores: \", maior_idade)\n",
    "print(\"Menores: \", menor_idade)\n"
   ]
  },
  {
   "cell_type": "code",
   "execution_count": 9,
   "metadata": {},
   "outputs": [
    {
     "name": "stdout",
     "output_type": "stream",
     "text": [
      "Pares: [0, 2, 4, 6, 8, 10, 12, 14, 16, 18, 20, 22, 24, 26, 28, 30, 32, 34, 36, 38, 40, 42, 44, 46, 48, 50, 52, 54, 56, 58, 60, 62, 64, 66, 68, 70, 72, 74, 76, 78, 80, 82, 84, 86, 88, 90, 92, 94, 96, 98, 100]\n",
      "Impares: [1, 3, 5, 7, 9, 11, 13, 15, 17, 19, 21, 23, 25, 27, 29, 31, 33, 35, 37, 39, 41, 43, 45, 47, 49, 51, 53, 55, 57, 59, 61, 63, 65, 67, 69, 71, 73, 75, 77, 79, 81, 83, 85, 87, 89, 91, 93, 95, 97, 99]\n"
     ]
    }
   ],
   "source": [
    "#EXERCÍCIO 2: \n",
    "#Faça um programa que percorra os números de 0 a 100\n",
    "#e separe em duas listas os números pares e impares.\n",
    "\n",
    "pares = []\n",
    "impares = []\n",
    "\n",
    "for i in range(101):\n",
    "    if (i % 2 == 0):\n",
    "        pares.append(i)\n",
    "    else:\n",
    "        impares.append(i)\n",
    "\n",
    "print(\"Pares:\", pares)\n",
    "print(\"Impares:\", impares)\n",
    "\n",
    "\n",
    "\n",
    "\n",
    "# for i in range(0, 101, 2):\n",
    "#     pares.append(i)\n",
    "\n",
    "# for i in range(3, 101, 2):\n",
    "#     impares.append(i)"
   ]
  },
  {
   "cell_type": "code",
   "execution_count": null,
   "metadata": {},
   "outputs": [],
   "source": [
    "#EXERCÍCIO 3: \n",
    "#Faça um programa que permita o usuário digitar\n",
    "#várias frutas e adicionar em uma lista.  \n",
    "#O sistema deve parar quando usuário digitar Fim.\n",
    "#Depois você deve ordenar e exibir a lista\n",
    "\n",
    "fruta = []\n",
    "fruta_digitada = \"\"\n",
    "\n",
    "while (fruta_digitada != \"FIM\"):\n",
    "    fruta_digitada = input(\"Digite uma Fruta. Fim pa parar\").upper()\n",
    "    \n",
    "    fruta.append(fruta_digitada)\n",
    "\n",
    "fruta.remove(\"FIM\")\n",
    "fruta.sort()\n",
    "\n",
    "# for fruta in fruta_digitada:\n",
    "print(fruta)"
   ]
  },
  {
   "cell_type": "code",
   "execution_count": 29,
   "metadata": {},
   "outputs": [
    {
     "name": "stdout",
     "output_type": "stream",
     "text": [
      "Pares [10, 20, 30, 60, 50, 80, 90, 100]\n",
      "Media 55.0\n"
     ]
    }
   ],
   "source": [
    "#EXERCÍCIO 4:\n",
    "# Elabore um programa que calcule a média aritmética \n",
    "# dos números pares que forem fornecidos pelo usuário.\n",
    "# O valor de finalização será a entrada do número 0. \n",
    "# Observar que o usuário pode fornecer números\n",
    "# impares, mas, esses números não devem ser \n",
    "# considerados no cálculo.\n",
    "\n",
    "valor_digitado = -1\n",
    "par = []\n",
    "\n",
    "while (valor_digitado != 0):\n",
    "    valor_digitado = int(input(\"Digite um Numero. Zero encerra\"))\n",
    "    if (valor_digitado % 2 == 0 and valor_digitado != 0):\n",
    "        par.append(valor_digitado)\n",
    "\n",
    "soma_pares = 0\n",
    "for numero in par:\n",
    "    soma_pares += numero\n",
    "\n",
    "media = soma_pares / len(par)\n",
    "\n",
    "print(\"Pares\", par)\n",
    "print(\"Media\", media)"
   ]
  }
 ],
 "metadata": {
  "kernelspec": {
   "display_name": "Python 3.11.1 64-bit",
   "language": "python",
   "name": "python3"
  },
  "language_info": {
   "codemirror_mode": {
    "name": "ipython",
    "version": 3
   },
   "file_extension": ".py",
   "mimetype": "text/x-python",
   "name": "python",
   "nbconvert_exporter": "python",
   "pygments_lexer": "ipython3",
   "version": "3.11.4"
  },
  "orig_nbformat": 4,
  "vscode": {
   "interpreter": {
    "hash": "6daf58e1c4ea4afa21620bdaaf8e5cf667f85c91827fa8c7fe157fb5fc14b4fc"
   }
  }
 },
 "nbformat": 4,
 "nbformat_minor": 2
}
