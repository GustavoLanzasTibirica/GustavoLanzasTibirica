{
 "cells": [
  {
   "cell_type": "markdown",
   "metadata": {},
   "source": [
    "## Aula 03\n",
    "\n",
    " > OBS: Este documento é um notebok Python que permite a execução de código e edição de texto juntos num mesmo arquivo. Ele é divido em células de Code (execução de código) ou Markdown (edição de texto utilizando a [linguagem MarkDown para definição de estilos](https://www.markdownguide.org/basic-syntax/) )"
   ]
  },
  {
   "cell_type": "markdown",
   "metadata": {},
   "source": [
    "---\n",
    "### Operadores  (Expressões Aritméticas e Lógicas)\n",
    "\n",
    "##### Expressões Aritméticas\n",
    "As Expressões aritméticas são constituídas por operadores aritméticos, constantes e\n",
    "variáveis numéricas. O Resultado de uma expressão aritmética é sempre um valor numérico.\n",
    "\n",
    "##### Expressões Lógicas\n",
    "As expressões lógicas são constituídas por operadores lógicos e relacionais. O Resultado\n",
    "de uma expressão lógica sempre será um valor lógico (booleano) verdadeiro ou falso.\n",
    "\n",
    "##### Operadores Aritméticos\n",
    "Op.     |  Nome \n",
    "--------- |---------\n",
    "\\+   | soma\n",
    "\\-   | subtração \n",
    "\\*   | multiplicação\n",
    "\\/   | divisão \n",
    "\\//   | divisão inteira (arredonda para o número inteiro mais próximo)\n",
    "\\%   | mod (resto da divisão) \n",
    "\\**   | exponênciação\n",
    "\n",
    "##### Prioridade de execução\n",
    "1. parenteses internos\n",
    "2. exponênciação\n",
    "3. multiplicação, divisões e suas variações\n",
    "4. soma e subtração\n",
    "\n",
    "##### Operadores Relacionais\n",
    "Op.     |  Nome \n",
    "--------- |---------\n",
    "\\==   | igual\n",
    "\\!=   | diferente \n",
    "\\>   | maior que\n",
    "\\>=   | maior ou igual que\n",
    "\\<   | menor que\n",
    "\\<=   | menor ou igual que \n",
    "\n",
    "##### Operadores Lógicos\n",
    "Op.     |  Nome   |   obs (tab. verdade)\n",
    "--------- |--------- |---------\n",
    "and   | e   |   Retorna Verdadeiro se ambas as declarações forem verdadeiras\n",
    "or   | ou   |   Retorna Verdadeiro se uma das declarações for verdadeira\n",
    "not   | não   |   Inverte o resultado\n",
    "\n",
    "##### Prioridade de execução\n",
    "1. not\n",
    "2. and\n",
    "3. or\n",
    "\n",
    "##### Prioridade de execução entre todos os operadores\n",
    "1. parenteses internos\n",
    "2. operadores aritméticos\n",
    "3. operadores relacionais\n",
    "4. operadores lógicos"
   ]
  },
  {
   "cell_type": "code",
   "execution_count": 22,
   "metadata": {},
   "outputs": [
    {
     "name": "stdout",
     "output_type": "stream",
     "text": [
      "0\n"
     ]
    }
   ],
   "source": [
    "# resultado = 6 + 4 * 3 - 2 + 8 // 3\n",
    "# A = 5\n",
    "# resultado = (5 + 7) / 2 + 9 - 2 * A\n",
    "# resultado = not ( 4 != 16 / 4 or True and 3 - 7 > 8 - 5 or True)\n",
    "#resultado = True and ( 5 ** 9 / 52 - 45 % 58 // 45 == 45 or True)\n",
    "#resultado =  6 / 9 * 5 - 6 + 9 // 52 ** False or 4 % 5\n",
    "# resultado = not True and 16 % 3 > 2\n",
    "A = 10\n",
    "B = 15\n",
    "resultado = A // 25 * B\n",
    "print(resultado)"
   ]
  },
  {
   "cell_type": "markdown",
   "metadata": {},
   "source": [
    "## Estruturas de Decisão\n",
    "Uma estrutura de decisão (ou condicional) permite escolher um grupo de instruções que deve ser executado quando determinadas condições são cumpridas. Essas condições podem ser lógicas ou relacionais."
   ]
  },
  {
   "cell_type": "markdown",
   "metadata": {},
   "source": [
    "---\n",
    "### IF Simples (if)\n",
    "Baseado em uma expressão lógica, só irá executar as instruções se o resultado for verdadeiro.\n",
    "\n",
    "Note aqui a importância da ***Identação*** do código no Python. O bloco de instruções a ser executado será definido por tal identação. A falta de atenção deste ponto pode fazer com que seja executado instruções indevidamente.\n"
   ]
  },
  {
   "cell_type": "code",
   "execution_count": 29,
   "metadata": {},
   "outputs": [
    {
     "name": "stdout",
     "output_type": "stream",
     "text": [
      "é maior de idade\n",
      "Já pode dirigir e beber\n"
     ]
    }
   ],
   "source": [
    "# if simples. Só executa as instruções se a expressão for True\n",
    "idade = int(input(\"Digite a ideda:\"))\n",
    "if (idade >= 18):\n",
    "    print(\"é maior de idade\")\n",
    "    print(\"Já pode dirigir e beber\")"
   ]
  },
  {
   "cell_type": "markdown",
   "metadata": {},
   "source": [
    "---\n",
    "### IF Composto (if / else)\n",
    "Da mesma forma que o if simples, baseia-se em uma expressão lógica, só que dessa vez, executará diferentes conjunto de  instruções caso seja verdadeiro e caso seja falso."
   ]
  },
  {
   "cell_type": "code",
   "execution_count": 31,
   "metadata": {},
   "outputs": [
    {
     "name": "stdout",
     "output_type": "stream",
     "text": [
      "è menos de idade\n"
     ]
    }
   ],
   "source": [
    "# if composto \n",
    "idade = int(input(\"Digite a ideda:\"))\n",
    "if (idade >= 18):\n",
    "    print(\"é maior de idade\")\n",
    "    print(\"Já pode dirigir e beber\")\n",
    "else:\n",
    "    print(\"è menos de idade\")"
   ]
  },
  {
   "cell_type": "markdown",
   "metadata": {},
   "source": [
    "---\n",
    "### IF Encadeado (if / elif)\n",
    "Existem situações em que apenas duas condições não são o suficiente e necessitam de verificações sucessivas. Neste caso utilizamos ifs encadeados (ou aninhados), onde a condição se falso executa uma nova condição."
   ]
  },
  {
   "cell_type": "code",
   "execution_count": 34,
   "metadata": {},
   "outputs": [
    {
     "name": "stdout",
     "output_type": "stream",
     "text": [
      "é maior de idade\n",
      "Já pode dirigir e beber\n"
     ]
    }
   ],
   "source": [
    "# if encaeado\n",
    "idade = int(input(\"Digite a ideda:\"))\n",
    "if (idade >= 18):\n",
    "    print(\"é maior de idade\")\n",
    "    print(\"Já pode dirigir e beber\")\n",
    "elif (idade >= 16):\n",
    "    print(\"é menor de idade\")\n",
    "    print(\"Mas ja pode votar\")\n",
    "else:\n",
    "    print(\"é menor de idade\")"
   ]
  },
  {
   "cell_type": "markdown",
   "metadata": {},
   "source": [
    "---\n",
    "### Operador Ternário\n",
    "\n",
    "Operador Ternário (também chamado de if inline) tem a mesma função de if composto e pode ser usado quando a instrução a ser executada seja apenas o retorno de um único valor. Normalmente escrito em uma única linha e associado a uma condição simples.\n",
    "\n",
    "Note que aqui a sintaxe muda. Primeiro escreve o valor se verdadeiro, para só depois colocar  a concição."
   ]
  },
  {
   "cell_type": "code",
   "execution_count": 35,
   "metadata": {},
   "outputs": [
    {
     "name": "stdout",
     "output_type": "stream",
     "text": [
      "Masculino\n"
     ]
    }
   ],
   "source": [
    "# if inline ou ternario\n",
    "sexo = \"M\"\n",
    "print (\"Feminino\") if sexo == \"F\" else print (\"Masculino\")"
   ]
  },
  {
   "cell_type": "code",
   "execution_count": 39,
   "metadata": {},
   "outputs": [
    {
     "name": "stdout",
     "output_type": "stream",
     "text": [
      "5.5\n",
      "Reprovado\n"
     ]
    }
   ],
   "source": [
    "# construa um código que receba 4 notas,\n",
    "# calcule a média aritmética e verifique \n",
    "# a situação do aluno:\n",
    "# Se a média for maior ou igual que 7 está aprovado\n",
    "# caso contrário reprovado:\n",
    "\n",
    "n1 = int(input(\"Digite a nota da prova 01:\"))\n",
    "n2 = int(input(\"Digite a nota da prova 02:\"))\n",
    "n3 = int(input(\"Digite a nota da prova 03:\"))\n",
    "n4 = int(input(\"Digite a nota da prova 04:\"))\n",
    "nota = (n1 + n2 + n3 + n4)/4\n",
    "print(nota)\n",
    "if (nota >= 7):\n",
    "    print(\"Aprovado\")\n",
    "else:\n",
    "    print(\"Reprovado\")"
   ]
  }
 ],
 "metadata": {
  "kernelspec": {
   "display_name": "Python 3.11.1 64-bit",
   "language": "python",
   "name": "python3"
  },
  "language_info": {
   "codemirror_mode": {
    "name": "ipython",
    "version": 3
   },
   "file_extension": ".py",
   "mimetype": "text/x-python",
   "name": "python",
   "nbconvert_exporter": "python",
   "pygments_lexer": "ipython3",
   "version": "3.11.4"
  },
  "orig_nbformat": 4,
  "vscode": {
   "interpreter": {
    "hash": "a6575a79d982d4f2822af0dbad6f822667d9cc27f6e7657f853dc9f72ce1dde4"
   }
  }
 },
 "nbformat": 4,
 "nbformat_minor": 2
}
