{
 "cells": [
  {
   "cell_type": "markdown",
   "metadata": {},
   "source": [
    "#### Aula 07\n",
    "\n",
    " > OBS: Este documento é um notebok Python que permite a execução de código e edição de texto juntos num mesmo arquivo. Ele é divido em células de Code (execução de código) ou Markdown (edição de texto utilizando a [linguagem MarkDown para definição de estilos](https://www.markdownguide.org/basic-syntax/) )"
   ]
  },
  {
   "cell_type": "markdown",
   "metadata": {},
   "source": [
    "## Tratamento de Erros (try/except)\n",
    "O try/except é uma estrutura do python utilizado para tratamento de exceções (erros).\n",
    "Basicamente ele tenta executar as instruções que estão dentro do try. Caso ocorra alguma exceção, será executado o bloco de instruções dentro do except. É algo semelhante ao if/else, porém específico para controle de erros."
   ]
  },
  {
   "cell_type": "code",
   "execution_count": 1,
   "metadata": {},
   "outputs": [
    {
     "name": "stdout",
     "output_type": "stream",
     "text": [
      "Não é possível dividir um número po zero\n"
     ]
    }
   ],
   "source": [
    "a = 5\n",
    "b = 0\n",
    "\n",
    "try:\n",
    "    c = a/b\n",
    "    print(c)\n",
    "except ZeroDivisionError:\n",
    "    print(\"Não é possível dividir um número po zero\")\n",
    "except:\n",
    "    print(\"Deu algum erro. Contate o administrador\")"
   ]
  },
  {
   "cell_type": "code",
   "execution_count": 2,
   "metadata": {},
   "outputs": [
    {
     "name": "stdout",
     "output_type": "stream",
     "text": [
      "Fruta nao encontrada na lista\n"
     ]
    }
   ],
   "source": [
    "frutas = [\"Uva\", \"Laranja\", \"Maçã\", \"Pessego\"]\n",
    "\n",
    "try:\n",
    "    frutas.remove(\"Melancia\")\n",
    "    print(frutas)\n",
    "except ValueError:\n",
    "    print(\"Fruta nao encontrada na lista\")"
   ]
  },
  {
   "attachments": {},
   "cell_type": "markdown",
   "metadata": {},
   "source": [
    "#### Criando erros customizados (raise Exception)\n",
    "O Python oferece a possibilidade de você criar seus próprios erros, com mensagens customizadas, através do comando: \n",
    "\n",
    "raise Exception(\"Sua mensagem de erro\")."
   ]
  },
  {
   "cell_type": "code",
   "execution_count": 3,
   "metadata": {},
   "outputs": [
    {
     "ename": "Exception",
     "evalue": "Só é aceito números maiores que zero",
     "output_type": "error",
     "traceback": [
      "\u001b[1;31m---------------------------------------------------------------------------\u001b[0m",
      "\u001b[1;31mException\u001b[0m                                 Traceback (most recent call last)",
      "Cell \u001b[1;32mIn[3], line 4\u001b[0m\n\u001b[0;32m      1\u001b[0m numero \u001b[39m=\u001b[39m \u001b[39mint\u001b[39m(\u001b[39minput\u001b[39m(\u001b[39m\"\u001b[39m\u001b[39mDigite um numero:\u001b[39m\u001b[39m\"\u001b[39m))\n\u001b[0;32m      3\u001b[0m \u001b[39mif\u001b[39;00m (numero \u001b[39m<\u001b[39m\u001b[39m=\u001b[39m \u001b[39m0\u001b[39m):\n\u001b[1;32m----> 4\u001b[0m     \u001b[39mraise\u001b[39;00m \u001b[39mException\u001b[39;00m(\u001b[39m\"\u001b[39m\u001b[39mSó é aceito números maiores que zero\u001b[39m\u001b[39m\"\u001b[39m)\n\u001b[0;32m      6\u001b[0m \u001b[39mprint\u001b[39m(numero)\n",
      "\u001b[1;31mException\u001b[0m: Só é aceito números maiores que zero"
     ]
    }
   ],
   "source": [
    "numero = int(input(\"Digite um numero:\"))\n",
    "\n",
    "if (numero <= 0):\n",
    "    raise Exception(\"Só é aceito números maiores que zero\")\n",
    "\n",
    "print(numero)"
   ]
  },
  {
   "attachments": {},
   "cell_type": "markdown",
   "metadata": {},
   "source": [
    "## Importação de Bibliotecas (import)\n",
    "O Python vem com uma variedade de funções integradas (built-in). Essas funções, no entantão, são limitadas e podemos fazer uso de módulos para aumentar a variedade de funções para criar programas mais sofisticados.\n",
    "Para isso, precisamos importar esses módulos/bibliotecas utilizando o comando import."
   ]
  },
  {
   "cell_type": "code",
   "execution_count": null,
   "metadata": {},
   "outputs": [],
   "source": [
    "# importando um pacote inteiro de biblioteca\n",
    "import math\n",
    "\n",
    "print(math.pi)\n",
    "\n",
    "print(math.pow(5, 3))\n"
   ]
  },
  {
   "cell_type": "code",
   "execution_count": null,
   "metadata": {},
   "outputs": [],
   "source": [
    "# importando um abiblioteca especifica do pacote\n",
    "from math import pi"
   ]
  },
  {
   "attachments": {},
   "cell_type": "markdown",
   "metadata": {},
   "source": [
    "### Biblioteca DateTime\n",
    "Biblioteca utlizada para manipulação de Datas.\n",
    "\n",
    "- Pegando a data Atual do sistema <br>\n",
    "Função now().<br> \n",
    "Sintaxe: datetime.now()\n",
    "\n",
    "- Formatação de Data <br>\n",
    "Função strftime (Formata e Converte em string). <br>\n",
    "Sintaxe: datetime.strftime(\"%d/%m/%Y %H:%M\")\n",
    "\n",
    "- Conversão de Data <br>\n",
    "Função strptime (Converte string em data).<br> \n",
    "Sintaxe: datetime.strptime(data, \"%d/%m/%Y\")"
   ]
  },
  {
   "cell_type": "code",
   "execution_count": 2,
   "metadata": {},
   "outputs": [
    {
     "name": "stdout",
     "output_type": "stream",
     "text": [
      "2023-06-28 19:26:53.518711\n",
      "19:26\n",
      "28/06/23 junho (quarta-feira)\n",
      "23\n"
     ]
    }
   ],
   "source": [
    "from datetime import datetime as dt\n",
    "import locale #biblioteca de configurações regionais\n",
    "\n",
    "locale.setlocale(locale.LC_ALL, \"pt-br\") #configura a localização Português-BR\n",
    "ano_atual = dt.now().year\n",
    "\n",
    "data = dt.now().strftime(\"%d/%m/%y %B (%A)\")\n",
    "hora = dt.now().strftime(\"%H:%M\")\n",
    "ano =dt.now().strftime(\"%y\")\n",
    "\n",
    "print(dt.now())\n",
    "print(hora)\n",
    "print(data)\n",
    "print(ano)"
   ]
  },
  {
   "cell_type": "code",
   "execution_count": 7,
   "metadata": {},
   "outputs": [
    {
     "name": "stdout",
     "output_type": "stream",
     "text": [
      "1990-08-03 00:00:00\n",
      "<class 'datetime.datetime'>\n",
      "03 de agosto de 1990\n"
     ]
    }
   ],
   "source": [
    "from datetime import datetime as dt\n",
    "import locale #biblioteca de configurações regionais\n",
    "\n",
    "locale.setlocale(locale.LC_ALL, \"pt-BR.utf-8\") #configura a localização Português-BR\n",
    "\n",
    "data = input(\"Digite a Data de Nascimento: \")\n",
    "data_nascimento = dt.strptime(data, \"%d/%m/%Y\")\n",
    "print(data_nascimento)\n",
    "print(type(data_nascimento))\n",
    "print(data_nascimento.strftime(\"%d de %B de %Y\"))"
   ]
  }
 ],
 "metadata": {
  "kernelspec": {
   "display_name": "Python 3.11.2 64-bit",
   "language": "python",
   "name": "python3"
  },
  "language_info": {
   "codemirror_mode": {
    "name": "ipython",
    "version": 3
   },
   "file_extension": ".py",
   "mimetype": "text/x-python",
   "name": "python",
   "nbconvert_exporter": "python",
   "pygments_lexer": "ipython3",
   "version": "3.11.4"
  },
  "orig_nbformat": 4,
  "vscode": {
   "interpreter": {
    "hash": "2fd99ad06a3d48823841a144b7a32270e886596f9df47b93966daf157f5a2b35"
   }
  }
 },
 "nbformat": 4,
 "nbformat_minor": 2
}
