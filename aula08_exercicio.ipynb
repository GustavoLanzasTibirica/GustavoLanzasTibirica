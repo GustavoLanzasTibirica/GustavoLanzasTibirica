{
 "cells": [
  {
   "cell_type": "code",
   "execution_count": 4,
   "metadata": {},
   "outputs": [
    {
     "name": "stdout",
     "output_type": "stream",
     "text": [
      "------------------------------------------------------------\n",
      "Funcionário: Gustavo                         Mês: junho/2023\n",
      "Salário Líquido: 1074.82                      Dependentes: 1\n",
      "------------------------------------------------------------\n",
      "Descrição               Vencimentos          Descontos      \n",
      "------------------------------------------------------------\n",
      "Salário                   1000.00                           \n",
      "Salário Família            59.82                            \n",
      "Comissão                   150.00                           \n",
      "INSS                                           75.00        \n",
      "IRRF                                            0.00        \n",
      "VT                                             60.00        \n",
      "------------------------------------------------------------\n",
      "Total                     1209.82              135.0        \n",
      "Salário Liquido                               1074.82       \n",
      "------------------------------------------------------------\n"
     ]
    }
   ],
   "source": [
    "import FolhaPagamento as fp\n",
    "from datetime import datetime as dt\n",
    "import locale\n",
    "\n",
    "locale.setlocale(locale.LC_ALL, \"pt_br.utf-8\")\n",
    "\n",
    "nome = \"Gustavo\"\n",
    "salario = 1000\n",
    "dependentes = 1\n",
    "total_vendas = 5000\n",
    "mes_referencia = dt.now().strftime(\"%B/%Y\")\n",
    "\n",
    "vale_transporte = fp.calcular_vt(salario)\n",
    "valor_inss = fp.calcular_inss(salario)\n",
    "valor_irff = fp.calcular_irff(salario, valor_inss, dependentes)\n",
    "salario_familia = fp.calcular_salario_familia(salario, dependentes)\n",
    "comissao = fp.calcular_comissao(total_vendas)\n",
    "salario_liquido = salario - valor_inss - vale_transporte - valor_irff + salario_familia + comissao\n",
    "\n",
    "print(''.center(60, '-'))\n",
    "\n",
    "print(f'Funcionário: {nome}'.ljust(30, ' ') + f'Mês: {mes_referencia}'.rjust(30, ' '))\n",
    "\n",
    "print(f'Salário Líquido: {salario_liquido:.2f}'.ljust(30, ' ') + f'Dependentes: {dependentes}'.rjust(30, ' '))\n",
    "\n",
    "print(''.center(60, '-'))\n",
    "\n",
    "print('Descrição'.ljust(20, ' ') + 'Vencimentos'.center(20, ' ') + 'Descontos'.center(20, ' '))\n",
    "\n",
    "print(''.center(60, '-'))\n",
    "\n",
    "print('Salário'.ljust(20, ' ') + f'{salario:.2f}'.center(20, ' ') + f''.center(20, ' '))\n",
    "\n",
    "print('Salário Família'.ljust(20, ' ') + f'{salario_familia:.2f}'.center(20, ' ') + f''.center(20, ' '))\n",
    "\n",
    "print('Comissão'.ljust(20, ' ') + f'{comissao:.2f}'.center(20, ' ') + f''.center(20, ' '))\n",
    "\n",
    "print('INSS'.ljust(20, ' ') + f''.center(20, ' ') + f'{valor_inss:.2f}'.center(20, ' '))\n",
    "\n",
    "print('IRRF'.ljust(20, ' ') + f''.center(20, ' ') + f'{valor_irff:.2f}'.center(20, ' '))\n",
    "\n",
    "print('VT'.ljust(20, ' ') + f''.center(20, ' ') + f'{vale_transporte:.2f}'.center(20, ' '))\n",
    "\n",
    "print(''.center(60, '-'))\n",
    "\n",
    "print('Total'.ljust(20, ' ') + f'{salario + salario_familia + comissao}'.center(20, ' ') + f'{vale_transporte + valor_inss + valor_irff}'.center(20, ' '))\n",
    "\n",
    "print('Salário Liquido'.ljust(20, ' ') + f''.center(20, ' ') + f'{salario_liquido:.2f}'.center(20, ' '))\n",
    "\n",
    "print(''.center(60, '-'))\n"
   ]
  }
 ],
 "metadata": {
  "kernelspec": {
   "display_name": "Python 3",
   "language": "python",
   "name": "python3"
  },
  "language_info": {
   "codemirror_mode": {
    "name": "ipython",
    "version": 3
   },
   "file_extension": ".py",
   "mimetype": "text/x-python",
   "name": "python",
   "nbconvert_exporter": "python",
   "pygments_lexer": "ipython3",
   "version": "3.11.4"
  },
  "orig_nbformat": 4
 },
 "nbformat": 4,
 "nbformat_minor": 2
}
