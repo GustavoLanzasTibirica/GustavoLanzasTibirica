{
 "cells": [
  {
   "cell_type": "markdown",
   "metadata": {},
   "source": [
    "#### Aula 08\n",
    "\n",
    " > OBS: Este documento é um notebok Python que permite a execução de código e edição de texto juntos num mesmo arquivo. Ele é divido em células de Code (execução de código) ou Markdown (edição de texto utilizando a [linguagem MarkDown para definição de estilos](https://www.markdownguide.org/basic-syntax/) )"
   ]
  },
  {
   "attachments": {},
   "cell_type": "markdown",
   "metadata": {},
   "source": [
    "## Funções (def)\n",
    "Funções são blocos de instruções que realizam determinadas tarefas específicas. Elas podem ser utilizadas para melhor organização do seu código, decompondo um algoritmo complexo em pequenas partes.<br> \n",
    "Também podemos utiliza-la sempre que um determinado trecho de código esteja sendo repetido várias vezes. Certamente esse trecho é um potencial candidato a virar uma função.<br>\n",
    "Uma função pode ou não retornar um valor."
   ]
  },
  {
   "cell_type": "markdown",
   "metadata": {},
   "source": [
    "Sintaxe:\n",
    "def nome_da_funcao(parametros):\n",
    "    bloco de intruções"
   ]
  },
  {
   "cell_type": "code",
   "execution_count": 24,
   "metadata": {},
   "outputs": [],
   "source": [
    "from datetime import datetime as dt\n",
    "import locale #biblioteca de configurações regionais\n",
    "\n",
    "locale.setlocale(locale.LC_ALL, \"pt-BR.utf-8\") #configura a localização Português-BR\n",
    "\n",
    "# criando um função\n",
    "def mostrar_saudacao(nome):\n",
    "    hora = dt.now().hour\n",
    "    print(\"Olá \" + nome)\n",
    "    if (hora >= 6 and hora <= 12):\n",
    "        print(\" Bom dia\")\n",
    "    elif (hora >= 12 and hora <=18):\n",
    "        print(\"Boa Tarde\")\n",
    "    else:\n",
    "        print(\"Boa Noite\")\n",
    "    print(\"Seja Bem Vindo!\")\n",
    "\n",
    "def data_por_etenso(data):\n",
    "    data = dt.strptime(data, \"%d/%m/%Y\")\n",
    "    data_fotmatada = (data.strftime(\"%d de %B de %Y\"))\n",
    "    # faz a função retornar uma informação para quem a invocou\n",
    "    return data_fotmatada\n",
    "\n"
   ]
  },
  {
   "cell_type": "code",
   "execution_count": 25,
   "metadata": {},
   "outputs": [
    {
     "name": "stdout",
     "output_type": "stream",
     "text": [
      "Olá Gustavo\n",
      "Boa Noite\n",
      "Seja Bem Vindo!\n",
      "28 de junho de 2023\n"
     ]
    }
   ],
   "source": [
    "# Chamando uma função\n",
    "mostrar_saudacao(\"Gustavo\")\n",
    "\n",
    "data_atual = data_por_etenso(\"28/06/2023\")\n",
    "print(data_atual)"
   ]
  }
 ],
 "metadata": {
  "kernelspec": {
   "display_name": "Python 3.11.2 64-bit",
   "language": "python",
   "name": "python3"
  },
  "language_info": {
   "codemirror_mode": {
    "name": "ipython",
    "version": 3
   },
   "file_extension": ".py",
   "mimetype": "text/x-python",
   "name": "python",
   "nbconvert_exporter": "python",
   "pygments_lexer": "ipython3",
   "version": "3.11.4"
  },
  "orig_nbformat": 4,
  "vscode": {
   "interpreter": {
    "hash": "2fd99ad06a3d48823841a144b7a32270e886596f9df47b93966daf157f5a2b35"
   }
  }
 },
 "nbformat": 4,
 "nbformat_minor": 2
}
